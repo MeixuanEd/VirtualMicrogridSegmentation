{
 "cells": [
  {
   "cell_type": "markdown",
   "metadata": {},
   "source": [
    "# How to work with pp_network.py\n",
    "\n",
    "*pp_network.py* has a class called *net_model* that handles the whole network side of our simulation. The network state object includes a pandapower object called *net* as well as methods to implement actions, calculate the reward, and run simulations on *net*.\n",
    "\n",
    "Another matpower note: net.line has an attribute 'in_service' so it should be easy for us to simulate a fallen line\n"
   ]
  },
  {
   "cell_type": "code",
   "execution_count": 7,
   "metadata": {},
   "outputs": [],
   "source": [
    "import matplotlib.pyplot as plt\n",
    "import numpy as np\n",
    "import pandas as pd\n",
    "import pandapower as pp\n",
    "import pandapower.networks"
   ]
  },
  {
   "cell_type": "code",
   "execution_count": 2,
   "metadata": {},
   "outputs": [],
   "source": [
    "import pp_network\n",
    "from pp_network import *"
   ]
  },
  {
   "cell_type": "markdown",
   "metadata": {},
   "source": [
    "# Trouble Shoot \n",
    "\n",
    "Try to figure out the rural_1 network, for example"
   ]
  },
  {
   "cell_type": "code",
   "execution_count": 16,
   "metadata": {},
   "outputs": [],
   "source": [
    "network_name = 'rural_1'\n",
    "abc = pp.networks.create_synthetic_voltage_control_lv_network(network_class = network_name)\n",
    "# abc(network_name)"
   ]
  },
  {
   "cell_type": "code",
   "execution_count": 18,
   "metadata": {},
   "outputs": [
    {
     "data": {
      "text/plain": [
       "This pandapower network includes the following parameter tables:\n",
       "   - bus (26 elements)\n",
       "   - load (14 elements)\n",
       "   - sgen (5 elements)\n",
       "   - ext_grid (1 element)\n",
       "   - line (24 elements)\n",
       "   - trafo (1 element)\n",
       "   - bus_geodata (26 elements)"
      ]
     },
     "execution_count": 18,
     "metadata": {},
     "output_type": "execute_result"
    }
   ],
   "source": [
    "abc"
   ]
  },
  {
   "cell_type": "code",
   "execution_count": 12,
   "metadata": {},
   "outputs": [
    {
     "data": {
      "text/plain": [
       "This pandapower network includes the following parameter tables:\n",
       "   - bus (26 elements)\n",
       "   - load (14 elements)\n",
       "   - sgen (5 elements)\n",
       "   - ext_grid (1 element)\n",
       "   - line (24 elements)\n",
       "   - trafo (1 element)\n",
       "   - bus_geodata (26 elements)"
      ]
     },
     "execution_count": 12,
     "metadata": {},
     "output_type": "execute_result"
    }
   ],
   "source": [
    "pp.networks.create_synthetic_voltage_control_lv_network(network_class = network_name)"
   ]
  },
  {
   "cell_type": "code",
   "execution_count": 3,
   "metadata": {},
   "outputs": [
    {
     "ename": "AttributeError",
     "evalue": "'function' object has no attribute 'rural_1'",
     "output_type": "error",
     "traceback": [
      "\u001b[0;31m---------------------------------------------------------------------------\u001b[0m",
      "\u001b[0;31mAttributeError\u001b[0m                            Traceback (most recent call last)",
      "\u001b[0;32m<ipython-input-3-3d1ad47344de>\u001b[0m in \u001b[0;36m<module>\u001b[0;34m()\u001b[0m\n\u001b[0;32m----> 1\u001b[0;31m \u001b[0mnetwork_model\u001b[0m \u001b[0;34m=\u001b[0m \u001b[0mpp_network\u001b[0m\u001b[0;34m.\u001b[0m\u001b[0mnet_model\u001b[0m\u001b[0;34m(\u001b[0m\u001b[0;34m'rural_1'\u001b[0m\u001b[0;34m)\u001b[0m\u001b[0;34m\u001b[0m\u001b[0m\n\u001b[0m",
      "\u001b[0;32m~/Documents/VirtualMicrogridSegmentation/pp_network.py\u001b[0m in \u001b[0;36m__init__\u001b[0;34m(self, network_name)\u001b[0m\n\u001b[1;32m     13\u001b[0m         \u001b[0mself\u001b[0m\u001b[0;34m.\u001b[0m\u001b[0mnetwork_name\u001b[0m \u001b[0;34m=\u001b[0m \u001b[0mnetwork_name\u001b[0m\u001b[0;34m\u001b[0m\u001b[0m\n\u001b[1;32m     14\u001b[0m         \u001b[0;32mif\u001b[0m \u001b[0mnetwork_name\u001b[0m \u001b[0;32min\u001b[0m \u001b[0;34m[\u001b[0m\u001b[0;34m'rural_1'\u001b[0m\u001b[0;34m,\u001b[0m \u001b[0;34m'rural_2'\u001b[0m\u001b[0;34m,\u001b[0m \u001b[0;34m'village_1'\u001b[0m\u001b[0;34m,\u001b[0m \u001b[0;34m'village_2'\u001b[0m\u001b[0;34m,\u001b[0m \u001b[0;34m'suburb_1'\u001b[0m\u001b[0;34m]\u001b[0m\u001b[0;34m:\u001b[0m\u001b[0;34m\u001b[0m\u001b[0m\n\u001b[0;32m---> 15\u001b[0;31m             \u001b[0mself\u001b[0m\u001b[0;34m.\u001b[0m\u001b[0mpp_net\u001b[0m \u001b[0;34m=\u001b[0m \u001b[0mgetattr\u001b[0m\u001b[0;34m(\u001b[0m\u001b[0mpp\u001b[0m\u001b[0;34m.\u001b[0m\u001b[0mnetworks\u001b[0m\u001b[0;34m.\u001b[0m\u001b[0mcreate_synthetic_voltage_control_lv_network\u001b[0m\u001b[0;34m,\u001b[0m\u001b[0mnetwork_name\u001b[0m\u001b[0;34m)\u001b[0m\u001b[0;31m#(network_class=str(network_name))\u001b[0m\u001b[0;34m\u001b[0m\u001b[0m\n\u001b[0m\u001b[1;32m     16\u001b[0m             \u001b[0mnet\u001b[0m \u001b[0;34m=\u001b[0m \u001b[0mself\u001b[0m\u001b[0;34m.\u001b[0m\u001b[0mpp_net\u001b[0m\u001b[0;34m(\u001b[0m\u001b[0;34m)\u001b[0m \u001b[0;31m#pp.networks.create_synthetic_voltage_control_lv_network(network_class=str(network_name))#self.pp_net(network_name)\u001b[0m\u001b[0;34m\u001b[0m\u001b[0m\n\u001b[1;32m     17\u001b[0m         \u001b[0;32melse\u001b[0m\u001b[0;34m:\u001b[0m\u001b[0;34m\u001b[0m\u001b[0m\n",
      "\u001b[0;31mAttributeError\u001b[0m: 'function' object has no attribute 'rural_1'"
     ]
    }
   ],
   "source": [
    "network_model = pp_network.net_model('rural_1')"
   ]
  },
  {
   "cell_type": "code",
   "execution_count": null,
   "metadata": {},
   "outputs": [],
   "source": []
  },
  {
   "cell_type": "markdown",
   "metadata": {},
   "source": [
    "## Initialize network\n",
    "\n",
    "Options to initialize: 'case5','case9','case14','rural_1','rural_2','village_1','village_2','suburb_1','iceland',etc... Basically pick anything from https://pandapower.readthedocs.io/en/v1.6.0/networks.html"
   ]
  },
  {
   "cell_type": "code",
   "execution_count": 3,
   "metadata": {
    "collapsed": true
   },
   "outputs": [],
   "source": [
    "network_model = pp_network.net_model('case14')"
   ]
  },
  {
   "cell_type": "code",
   "execution_count": 4,
   "metadata": {},
   "outputs": [
    {
     "name": "stdout",
     "output_type": "stream",
     "text": [
      "Number of load buses:  11\n",
      "Which buses are they on:  [ 1  2 13  3  4  5  8  9 10 11 12]\n",
      "Number of generator buses:  0\n",
      "Number of normal generators:  4\n"
     ]
    }
   ],
   "source": [
    "print('Number of load buses: ',network_model.num_loadbus)\n",
    "print('Which buses are they on: ',network_model.loadbuses)\n",
    "print('Number of generator buses: ',network_model.num_sgen)\n",
    "print('Number of normal generators: ',network_model.num_normalgen)"
   ]
  },
  {
   "cell_type": "markdown",
   "metadata": {},
   "source": [
    "### Fake test data"
   ]
  },
  {
   "cell_type": "code",
   "execution_count": 5,
   "metadata": {
    "collapsed": true
   },
   "outputs": [],
   "source": [
    "num_times = 24*60\n",
    "p_load_data = 1.0*np.ones((network_model.num_loadbus,num_times))\n",
    "q_load_data = 0.0*np.ones((network_model.num_loadbus,num_times))"
   ]
  },
  {
   "cell_type": "markdown",
   "metadata": {},
   "source": [
    "## Add generators"
   ]
  },
  {
   "cell_type": "code",
   "execution_count": 6,
   "metadata": {
    "collapsed": true
   },
   "outputs": [],
   "source": [
    "network_model.add_generation(7,1.0) \n",
    "# Add a generator at bus 7 and initialize its real power production as 1 kW\n",
    "network_model.add_generation(10,1.0)"
   ]
  },
  {
   "cell_type": "markdown",
   "metadata": {},
   "source": [
    "# Add battery"
   ]
  },
  {
   "cell_type": "code",
   "execution_count": 7,
   "metadata": {
    "collapsed": true
   },
   "outputs": [],
   "source": [
    "network_model.add_battery(3,1.0,10,0.0) # Initialize at bus 3 with power flow 1.0 (charging), capacity 10 kWh, initialy SOC 0 %"
   ]
  },
  {
   "cell_type": "markdown",
   "metadata": {},
   "source": [
    "## Update loads and run a powerflow"
   ]
  },
  {
   "cell_type": "code",
   "execution_count": 8,
   "metadata": {
    "collapsed": true
   },
   "outputs": [],
   "source": [
    "network_model.update_loads(p_load_data[:,0],q_load_data[:,0])"
   ]
  },
  {
   "cell_type": "code",
   "execution_count": 9,
   "metadata": {
    "collapsed": true
   },
   "outputs": [],
   "source": [
    "network_model.run_powerflow(False, True)"
   ]
  },
  {
   "cell_type": "code",
   "execution_count": 10,
   "metadata": {},
   "outputs": [
    {
     "data": {
      "text/plain": [
       "array([10.])"
      ]
     },
     "execution_count": 10,
     "metadata": {},
     "output_type": "execute_result"
    }
   ],
   "source": [
    "network_model.energy_capacities"
   ]
  },
  {
   "cell_type": "markdown",
   "metadata": {},
   "source": [
    "# Inspect results"
   ]
  },
  {
   "cell_type": "code",
   "execution_count": 12,
   "metadata": {
    "collapsed": true
   },
   "outputs": [],
   "source": [
    "# print('Real powerflows on the lines: ')\n",
    "# print(network_model.p_lineflow)"
   ]
  },
  {
   "cell_type": "markdown",
   "metadata": {},
   "source": [
    "# Key Documentation: \n",
    "\n",
    "https://pandapower.readthedocs.io/en/v1.6.0/elements.html\n",
    "\n",
    "Continuing to work on this and will check it is working"
   ]
  }
 ],
 "metadata": {
  "kernelspec": {
   "display_name": "Python 3",
   "language": "python",
   "name": "python3"
  },
  "language_info": {
   "codemirror_mode": {
    "name": "ipython",
    "version": 3
   },
   "file_extension": ".py",
   "mimetype": "text/x-python",
   "name": "python",
   "nbconvert_exporter": "python",
   "pygments_lexer": "ipython3",
   "version": "3.7.0"
  }
 },
 "nbformat": 4,
 "nbformat_minor": 2
}
