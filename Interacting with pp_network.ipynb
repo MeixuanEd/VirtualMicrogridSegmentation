{
 "cells": [
  {
   "cell_type": "markdown",
   "metadata": {},
   "source": [
    "# How to work with pp_network.py\n",
    "\n",
    "*pp_network.py* has a class called *net_model* that handles the whole network side of our simulation. The network state object includes a pandapower object called *net* as well as methods to implement actions, calculate the reward, and run simulations on *net*.\n",
    "\n",
    "Another matpower note: net.line has an attribute 'in_service' so it should be easy for us to simulate a fallen line\n"
   ]
  },
  {
   "cell_type": "code",
   "execution_count": 1,
   "metadata": {},
   "outputs": [],
   "source": [
    "import matplotlib.pyplot as plt\n",
    "import numpy as np\n",
    "import pandas as pd\n",
    "import pandapower as pp\n",
    "import pandapower.networks\n",
    "import pandapower.plotting"
   ]
  },
  {
   "cell_type": "code",
   "execution_count": 2,
   "metadata": {},
   "outputs": [],
   "source": [
    "import pp_network\n",
    "from pp_network import *"
   ]
  },
  {
   "cell_type": "markdown",
   "metadata": {},
   "source": [
    "# Trouble Shoot \n",
    "\n",
    "Try to figure out the rural_1 network, for example"
   ]
  },
  {
   "cell_type": "code",
   "execution_count": 3,
   "metadata": {},
   "outputs": [],
   "source": [
    "# network_model = pp_network.net_model('rural_1')\n",
    "# net = network_model.pp_net\n",
    "# pp.plotting.simple_plot(net,plot_loads=True,load_size=2,plot_sgens=True,sgen_size=5,plot_line_switches=True)"
   ]
  },
  {
   "cell_type": "code",
   "execution_count": null,
   "metadata": {},
   "outputs": [],
   "source": [
    "\n",
    "\n"
   ]
  },
  {
   "cell_type": "code",
   "execution_count": 4,
   "metadata": {},
   "outputs": [],
   "source": [
    "# net"
   ]
  },
  {
   "cell_type": "markdown",
   "metadata": {},
   "source": [
    "# Look at case14 problem"
   ]
  },
  {
   "cell_type": "code",
   "execution_count": 5,
   "metadata": {},
   "outputs": [],
   "source": [
    "# network_model = pp_network.net_model('case14', True)"
   ]
  },
  {
   "cell_type": "code",
   "execution_count": 6,
   "metadata": {},
   "outputs": [],
   "source": [
    "# net = network_model.pp_net()\n",
    "# net"
   ]
  },
  {
   "cell_type": "code",
   "execution_count": 7,
   "metadata": {},
   "outputs": [],
   "source": [
    "# net.gen"
   ]
  },
  {
   "cell_type": "code",
   "execution_count": 8,
   "metadata": {},
   "outputs": [],
   "source": [
    "# network_model.gen_real"
   ]
  },
  {
   "cell_type": "code",
   "execution_count": 9,
   "metadata": {},
   "outputs": [],
   "source": [
    "# # if self.num_gen > 0:\n",
    "# net.gen.min_q_kvar = 0 \n",
    "# net.gen.max_q_kvar = np.max(network_model.gen_react)\n",
    "# net.gen.p_kw = network_model.gen_real # Should be negative\n",
    "# net.gen.sn_kva = np.sqrt(np.power(network_model.gen_real, 2) + np.power(network_model.gen_react, 2)) # Want to set p and q, not s\n"
   ]
  },
  {
   "cell_type": "code",
   "execution_count": 10,
   "metadata": {},
   "outputs": [],
   "source": [
    "# net.gen"
   ]
  },
  {
   "cell_type": "code",
   "execution_count": 11,
   "metadata": {},
   "outputs": [],
   "source": [
    "# pp.runpp(net,enforce_q_lims=True)"
   ]
  },
  {
   "cell_type": "code",
   "execution_count": 12,
   "metadata": {},
   "outputs": [],
   "source": [
    "# net.res_load"
   ]
  },
  {
   "cell_type": "code",
   "execution_count": 13,
   "metadata": {},
   "outputs": [],
   "source": [
    "# pp.plotting.simple_plot(net,plot_loads=True,load_size=2,plot_sgens=True,sgen_size=5,plot_line_switches=True)"
   ]
  },
  {
   "cell_type": "code",
   "execution_count": 14,
   "metadata": {},
   "outputs": [],
   "source": [
    "# from pandapower.plotting.plotly import pf_res_plotly\n",
    "# pf_res_plotly(net)"
   ]
  },
  {
   "cell_type": "markdown",
   "metadata": {},
   "source": [
    "## Initialize network\n",
    "\n",
    "Options to initialize: 'case5','case9','case14','rural_1','rural_2','village_1','village_2','suburb_1','iceland',etc... Basically pick anything from https://pandapower.readthedocs.io/en/v1.6.0/networks.html"
   ]
  },
  {
   "cell_type": "code",
   "execution_count": 15,
   "metadata": {},
   "outputs": [],
   "source": [
    "network_model = pp_network.net_model('case14', zero_out_gens = True, zero_out_shunt = True)"
   ]
  },
  {
   "cell_type": "code",
   "execution_count": 16,
   "metadata": {},
   "outputs": [
    {
     "name": "stdout",
     "output_type": "stream",
     "text": [
      "Number of load buses:  11\n",
      "Which buses are they on:  [ 1  2 13  3  4  5  8  9 10 11 12]\n",
      "Number of generator buses:  0\n",
      "Number of normal generators:  4\n"
     ]
    }
   ],
   "source": [
    "print('Number of load buses: ',network_model.num_loadbus)\n",
    "print('Which buses are they on: ',network_model.loadbuses)\n",
    "print('Number of generator buses: ',network_model.num_sgen)\n",
    "print('Number of normal generators: ',network_model.num_gen)"
   ]
  },
  {
   "cell_type": "markdown",
   "metadata": {},
   "source": [
    "### Look at powerflows to begin with: "
   ]
  },
  {
   "cell_type": "code",
   "execution_count": 21,
   "metadata": {},
   "outputs": [],
   "source": [
    "net = network_model.pp_net()\n",
    "# pp.runpp(net,enforce_q_lims=True)"
   ]
  },
  {
   "cell_type": "code",
   "execution_count": 19,
   "metadata": {},
   "outputs": [],
   "source": [
    "# net.res_trafo"
   ]
  },
  {
   "cell_type": "code",
   "execution_count": 22,
   "metadata": {
    "scrolled": true
   },
   "outputs": [
    {
     "data": {
      "text/html": [
       "<div>\n",
       "<style scoped>\n",
       "    .dataframe tbody tr th:only-of-type {\n",
       "        vertical-align: middle;\n",
       "    }\n",
       "\n",
       "    .dataframe tbody tr th {\n",
       "        vertical-align: top;\n",
       "    }\n",
       "\n",
       "    .dataframe thead th {\n",
       "        text-align: right;\n",
       "    }\n",
       "</style>\n",
       "<table border=\"1\" class=\"dataframe\">\n",
       "  <thead>\n",
       "    <tr style=\"text-align: right;\">\n",
       "      <th></th>\n",
       "      <th>c_nf_per_km</th>\n",
       "      <th>df</th>\n",
       "      <th>from_bus</th>\n",
       "      <th>g_us_per_km</th>\n",
       "      <th>in_service</th>\n",
       "      <th>length_km</th>\n",
       "      <th>max_i_ka</th>\n",
       "      <th>max_loading_percent</th>\n",
       "      <th>name</th>\n",
       "      <th>parallel</th>\n",
       "      <th>r_ohm_per_km</th>\n",
       "      <th>std_type</th>\n",
       "      <th>to_bus</th>\n",
       "      <th>type</th>\n",
       "      <th>x_ohm_per_km</th>\n",
       "    </tr>\n",
       "  </thead>\n",
       "  <tbody>\n",
       "    <tr>\n",
       "      <th>0</th>\n",
       "      <td>768.484773</td>\n",
       "      <td>1.0</td>\n",
       "      <td>0</td>\n",
       "      <td>0.0</td>\n",
       "      <td>True</td>\n",
       "      <td>1.0</td>\n",
       "      <td>42.339020</td>\n",
       "      <td>100.0</td>\n",
       "      <td>None</td>\n",
       "      <td>1</td>\n",
       "      <td>3.532005</td>\n",
       "      <td>None</td>\n",
       "      <td>1</td>\n",
       "      <td>ol</td>\n",
       "      <td>10.783732</td>\n",
       "    </tr>\n",
       "    <tr>\n",
       "      <th>1</th>\n",
       "      <td>716.088084</td>\n",
       "      <td>1.0</td>\n",
       "      <td>0</td>\n",
       "      <td>0.0</td>\n",
       "      <td>True</td>\n",
       "      <td>1.0</td>\n",
       "      <td>42.339020</td>\n",
       "      <td>100.0</td>\n",
       "      <td>None</td>\n",
       "      <td>1</td>\n",
       "      <td>9.846967</td>\n",
       "      <td>None</td>\n",
       "      <td>4</td>\n",
       "      <td>ol</td>\n",
       "      <td>40.649040</td>\n",
       "    </tr>\n",
       "    <tr>\n",
       "      <th>10</th>\n",
       "      <td>0.000000</td>\n",
       "      <td>1.0</td>\n",
       "      <td>8</td>\n",
       "      <td>0.0</td>\n",
       "      <td>True</td>\n",
       "      <td>1.0</td>\n",
       "      <td>27479.652235</td>\n",
       "      <td>100.0</td>\n",
       "      <td>None</td>\n",
       "      <td>1</td>\n",
       "      <td>0.000014</td>\n",
       "      <td>None</td>\n",
       "      <td>9</td>\n",
       "      <td>ol</td>\n",
       "      <td>0.000037</td>\n",
       "    </tr>\n",
       "    <tr>\n",
       "      <th>11</th>\n",
       "      <td>0.000000</td>\n",
       "      <td>1.0</td>\n",
       "      <td>8</td>\n",
       "      <td>0.0</td>\n",
       "      <td>True</td>\n",
       "      <td>1.0</td>\n",
       "      <td>27479.652235</td>\n",
       "      <td>100.0</td>\n",
       "      <td>None</td>\n",
       "      <td>1</td>\n",
       "      <td>0.000055</td>\n",
       "      <td>None</td>\n",
       "      <td>13</td>\n",
       "      <td>ol</td>\n",
       "      <td>0.000117</td>\n",
       "    </tr>\n",
       "    <tr>\n",
       "      <th>12</th>\n",
       "      <td>0.000000</td>\n",
       "      <td>1.0</td>\n",
       "      <td>9</td>\n",
       "      <td>0.0</td>\n",
       "      <td>True</td>\n",
       "      <td>1.0</td>\n",
       "      <td>27479.652235</td>\n",
       "      <td>100.0</td>\n",
       "      <td>None</td>\n",
       "      <td>1</td>\n",
       "      <td>0.000035</td>\n",
       "      <td>None</td>\n",
       "      <td>10</td>\n",
       "      <td>ol</td>\n",
       "      <td>0.000083</td>\n",
       "    </tr>\n",
       "    <tr>\n",
       "      <th>13</th>\n",
       "      <td>0.000000</td>\n",
       "      <td>1.0</td>\n",
       "      <td>11</td>\n",
       "      <td>0.0</td>\n",
       "      <td>True</td>\n",
       "      <td>1.0</td>\n",
       "      <td>27479.652235</td>\n",
       "      <td>100.0</td>\n",
       "      <td>None</td>\n",
       "      <td>1</td>\n",
       "      <td>0.000096</td>\n",
       "      <td>None</td>\n",
       "      <td>12</td>\n",
       "      <td>ol</td>\n",
       "      <td>0.000086</td>\n",
       "    </tr>\n",
       "    <tr>\n",
       "      <th>14</th>\n",
       "      <td>0.000000</td>\n",
       "      <td>1.0</td>\n",
       "      <td>12</td>\n",
       "      <td>0.0</td>\n",
       "      <td>True</td>\n",
       "      <td>1.0</td>\n",
       "      <td>27479.652235</td>\n",
       "      <td>100.0</td>\n",
       "      <td>None</td>\n",
       "      <td>1</td>\n",
       "      <td>0.000074</td>\n",
       "      <td>None</td>\n",
       "      <td>13</td>\n",
       "      <td>ol</td>\n",
       "      <td>0.000151</td>\n",
       "    </tr>\n",
       "    <tr>\n",
       "      <th>2</th>\n",
       "      <td>637.493051</td>\n",
       "      <td>1.0</td>\n",
       "      <td>1</td>\n",
       "      <td>0.0</td>\n",
       "      <td>True</td>\n",
       "      <td>1.0</td>\n",
       "      <td>42.339020</td>\n",
       "      <td>100.0</td>\n",
       "      <td>None</td>\n",
       "      <td>1</td>\n",
       "      <td>8.563928</td>\n",
       "      <td>None</td>\n",
       "      <td>2</td>\n",
       "      <td>ol</td>\n",
       "      <td>36.080033</td>\n",
       "    </tr>\n",
       "    <tr>\n",
       "      <th>3</th>\n",
       "      <td>494.857619</td>\n",
       "      <td>1.0</td>\n",
       "      <td>1</td>\n",
       "      <td>0.0</td>\n",
       "      <td>True</td>\n",
       "      <td>1.0</td>\n",
       "      <td>42.339020</td>\n",
       "      <td>100.0</td>\n",
       "      <td>None</td>\n",
       "      <td>1</td>\n",
       "      <td>10.590547</td>\n",
       "      <td>None</td>\n",
       "      <td>3</td>\n",
       "      <td>ol</td>\n",
       "      <td>32.134320</td>\n",
       "    </tr>\n",
       "    <tr>\n",
       "      <th>4</th>\n",
       "      <td>503.590401</td>\n",
       "      <td>1.0</td>\n",
       "      <td>1</td>\n",
       "      <td>0.0</td>\n",
       "      <td>True</td>\n",
       "      <td>1.0</td>\n",
       "      <td>42.339020</td>\n",
       "      <td>100.0</td>\n",
       "      <td>None</td>\n",
       "      <td>1</td>\n",
       "      <td>10.379138</td>\n",
       "      <td>None</td>\n",
       "      <td>4</td>\n",
       "      <td>ol</td>\n",
       "      <td>31.689630</td>\n",
       "    </tr>\n",
       "    <tr>\n",
       "      <th>5</th>\n",
       "      <td>186.299339</td>\n",
       "      <td>1.0</td>\n",
       "      <td>2</td>\n",
       "      <td>0.0</td>\n",
       "      <td>True</td>\n",
       "      <td>1.0</td>\n",
       "      <td>42.339020</td>\n",
       "      <td>100.0</td>\n",
       "      <td>None</td>\n",
       "      <td>1</td>\n",
       "      <td>12.212573</td>\n",
       "      <td>None</td>\n",
       "      <td>3</td>\n",
       "      <td>ol</td>\n",
       "      <td>31.170217</td>\n",
       "    </tr>\n",
       "    <tr>\n",
       "      <th>6</th>\n",
       "      <td>0.000000</td>\n",
       "      <td>1.0</td>\n",
       "      <td>3</td>\n",
       "      <td>0.0</td>\n",
       "      <td>True</td>\n",
       "      <td>1.0</td>\n",
       "      <td>42.339020</td>\n",
       "      <td>100.0</td>\n",
       "      <td>None</td>\n",
       "      <td>1</td>\n",
       "      <td>2.433038</td>\n",
       "      <td>None</td>\n",
       "      <td>4</td>\n",
       "      <td>ol</td>\n",
       "      <td>7.674548</td>\n",
       "    </tr>\n",
       "    <tr>\n",
       "      <th>7</th>\n",
       "      <td>0.000000</td>\n",
       "      <td>1.0</td>\n",
       "      <td>5</td>\n",
       "      <td>0.0</td>\n",
       "      <td>True</td>\n",
       "      <td>1.0</td>\n",
       "      <td>27479.652235</td>\n",
       "      <td>100.0</td>\n",
       "      <td>None</td>\n",
       "      <td>1</td>\n",
       "      <td>0.000041</td>\n",
       "      <td>None</td>\n",
       "      <td>10</td>\n",
       "      <td>ol</td>\n",
       "      <td>0.000086</td>\n",
       "    </tr>\n",
       "    <tr>\n",
       "      <th>8</th>\n",
       "      <td>0.000000</td>\n",
       "      <td>1.0</td>\n",
       "      <td>5</td>\n",
       "      <td>0.0</td>\n",
       "      <td>True</td>\n",
       "      <td>1.0</td>\n",
       "      <td>27479.652235</td>\n",
       "      <td>100.0</td>\n",
       "      <td>None</td>\n",
       "      <td>1</td>\n",
       "      <td>0.000053</td>\n",
       "      <td>None</td>\n",
       "      <td>11</td>\n",
       "      <td>ol</td>\n",
       "      <td>0.000111</td>\n",
       "    </tr>\n",
       "    <tr>\n",
       "      <th>9</th>\n",
       "      <td>0.000000</td>\n",
       "      <td>1.0</td>\n",
       "      <td>5</td>\n",
       "      <td>0.0</td>\n",
       "      <td>True</td>\n",
       "      <td>1.0</td>\n",
       "      <td>27479.652235</td>\n",
       "      <td>100.0</td>\n",
       "      <td>None</td>\n",
       "      <td>1</td>\n",
       "      <td>0.000029</td>\n",
       "      <td>None</td>\n",
       "      <td>12</td>\n",
       "      <td>ol</td>\n",
       "      <td>0.000056</td>\n",
       "    </tr>\n",
       "  </tbody>\n",
       "</table>\n",
       "</div>"
      ],
      "text/plain": [
       "    c_nf_per_km   df  from_bus  g_us_per_km  in_service  length_km  \\\n",
       "0    768.484773  1.0         0          0.0        True        1.0   \n",
       "1    716.088084  1.0         0          0.0        True        1.0   \n",
       "10     0.000000  1.0         8          0.0        True        1.0   \n",
       "11     0.000000  1.0         8          0.0        True        1.0   \n",
       "12     0.000000  1.0         9          0.0        True        1.0   \n",
       "13     0.000000  1.0        11          0.0        True        1.0   \n",
       "14     0.000000  1.0        12          0.0        True        1.0   \n",
       "2    637.493051  1.0         1          0.0        True        1.0   \n",
       "3    494.857619  1.0         1          0.0        True        1.0   \n",
       "4    503.590401  1.0         1          0.0        True        1.0   \n",
       "5    186.299339  1.0         2          0.0        True        1.0   \n",
       "6      0.000000  1.0         3          0.0        True        1.0   \n",
       "7      0.000000  1.0         5          0.0        True        1.0   \n",
       "8      0.000000  1.0         5          0.0        True        1.0   \n",
       "9      0.000000  1.0         5          0.0        True        1.0   \n",
       "\n",
       "        max_i_ka  max_loading_percent  name  parallel  r_ohm_per_km std_type  \\\n",
       "0      42.339020                100.0  None         1      3.532005     None   \n",
       "1      42.339020                100.0  None         1      9.846967     None   \n",
       "10  27479.652235                100.0  None         1      0.000014     None   \n",
       "11  27479.652235                100.0  None         1      0.000055     None   \n",
       "12  27479.652235                100.0  None         1      0.000035     None   \n",
       "13  27479.652235                100.0  None         1      0.000096     None   \n",
       "14  27479.652235                100.0  None         1      0.000074     None   \n",
       "2      42.339020                100.0  None         1      8.563928     None   \n",
       "3      42.339020                100.0  None         1     10.590547     None   \n",
       "4      42.339020                100.0  None         1     10.379138     None   \n",
       "5      42.339020                100.0  None         1     12.212573     None   \n",
       "6      42.339020                100.0  None         1      2.433038     None   \n",
       "7   27479.652235                100.0  None         1      0.000041     None   \n",
       "8   27479.652235                100.0  None         1      0.000053     None   \n",
       "9   27479.652235                100.0  None         1      0.000029     None   \n",
       "\n",
       "    to_bus type  x_ohm_per_km  \n",
       "0        1   ol     10.783732  \n",
       "1        4   ol     40.649040  \n",
       "10       9   ol      0.000037  \n",
       "11      13   ol      0.000117  \n",
       "12      10   ol      0.000083  \n",
       "13      12   ol      0.000086  \n",
       "14      13   ol      0.000151  \n",
       "2        2   ol     36.080033  \n",
       "3        3   ol     32.134320  \n",
       "4        4   ol     31.689630  \n",
       "5        3   ol     31.170217  \n",
       "6        4   ol      7.674548  \n",
       "7       10   ol      0.000086  \n",
       "8       11   ol      0.000111  \n",
       "9       12   ol      0.000056  "
      ]
     },
     "execution_count": 22,
     "metadata": {},
     "output_type": "execute_result"
    }
   ],
   "source": [
    "net.line"
   ]
  },
  {
   "cell_type": "code",
   "execution_count": 20,
   "metadata": {},
   "outputs": [],
   "source": [
    "# net.res_ext_grid"
   ]
  },
  {
   "cell_type": "code",
   "execution_count": 21,
   "metadata": {},
   "outputs": [],
   "source": [
    "# net.res_gen"
   ]
  },
  {
   "cell_type": "code",
   "execution_count": 22,
   "metadata": {
    "scrolled": true
   },
   "outputs": [],
   "source": [
    "# net.res_line"
   ]
  },
  {
   "cell_type": "markdown",
   "metadata": {},
   "source": [
    "### Fake test data"
   ]
  },
  {
   "cell_type": "code",
   "execution_count": 23,
   "metadata": {},
   "outputs": [],
   "source": [
    "num_times = 24*60\n",
    "p_load_data = 0.0*np.ones((network_model.num_loadbus,num_times))\n",
    "q_load_data = 0.0*np.ones((network_model.num_loadbus,num_times))"
   ]
  },
  {
   "cell_type": "markdown",
   "metadata": {},
   "source": [
    "## Add generators"
   ]
  },
  {
   "cell_type": "code",
   "execution_count": 24,
   "metadata": {},
   "outputs": [],
   "source": [
    "# network_model.add_sgeneration(7,1.0) \n",
    "# # Add a generator at bus 7 and initialize its real power production as 1 kW\n",
    "# network_model.add_sgeneration(10,1.0)"
   ]
  },
  {
   "cell_type": "markdown",
   "metadata": {},
   "source": [
    "# Add battery"
   ]
  },
  {
   "cell_type": "code",
   "execution_count": 25,
   "metadata": {},
   "outputs": [],
   "source": [
    "# network_model.add_battery(3,1.0,10,0.0) # Initialize at bus 3 with power flow 1.0 (charging), capacity 10 kWh, initialy SOC 0 %"
   ]
  },
  {
   "cell_type": "markdown",
   "metadata": {},
   "source": [
    "## Update loads and run a powerflow"
   ]
  },
  {
   "cell_type": "code",
   "execution_count": 24,
   "metadata": {},
   "outputs": [],
   "source": [
    "network_model.update_loads(p_load_data[:,0],q_load_data[:,0])"
   ]
  },
  {
   "cell_type": "code",
   "execution_count": 25,
   "metadata": {
    "scrolled": false
   },
   "outputs": [
    {
     "name": "stdout",
     "output_type": "stream",
     "text": [
      "Res_bus:         vm_pu  va_degree        p_kw        q_kvar\n",
      "0   1.060000   0.000000 -114.099796  25397.918563\n",
      "1   1.068457  -0.141840    0.000000      0.000000\n",
      "10  1.123985  -0.194647    0.000000      0.000000\n",
      "11  1.130629  -0.302964    0.000000      0.000000\n",
      "12  1.129302  -0.268041    0.000000      0.000000\n",
      "13  1.120052  -0.151853    0.000000      0.000000\n",
      "2   1.073465  -0.206622    0.000000      0.000000\n",
      "3   1.072594  -0.189358    0.000000      0.000000\n",
      "4   1.069499  -0.160747    0.000000      0.000000\n",
      "5   1.132048  -0.309505    0.000000      0.000000\n",
      "6   1.107321  -0.108963    0.000000      0.000000\n",
      "7   1.107321  -0.108963    0.000000      0.000000\n",
      "8   1.112898  -0.067286    0.000000      0.000000\n",
      "9   1.116266  -0.100744    0.000000      0.000000\n",
      "Total real line and transformer losses:  114.0998755938138\n",
      "Total reactive line and transformer losses:  -25397.91822556059\n",
      "Real sum res bus:  -114.09979583385521\n",
      "Reactive sum res bus:  25397.918562962645\n"
     ]
    }
   ],
   "source": [
    "network_model.run_powerflow(check=True,extreme_test=True)"
   ]
  },
  {
   "cell_type": "code",
   "execution_count": 12,
   "metadata": {},
   "outputs": [
    {
     "data": {
      "text/plain": [
       "array([10.])"
      ]
     },
     "execution_count": 12,
     "metadata": {},
     "output_type": "execute_result"
    }
   ],
   "source": [
    "network_model.energy_capacities"
   ]
  },
  {
   "cell_type": "markdown",
   "metadata": {},
   "source": [
    "# Inspect results"
   ]
  },
  {
   "cell_type": "code",
   "execution_count": 12,
   "metadata": {
    "collapsed": true
   },
   "outputs": [],
   "source": [
    "# print('Real powerflows on the lines: ')\n",
    "# print(network_model.p_lineflow)"
   ]
  },
  {
   "cell_type": "markdown",
   "metadata": {},
   "source": [
    "# Key Documentation: \n",
    "\n",
    "https://pandapower.readthedocs.io/en/v1.6.0/elements.html\n",
    "\n",
    "Continuing to work on this and will check it is working"
   ]
  }
 ],
 "metadata": {
  "kernelspec": {
   "display_name": "Python 3",
   "language": "python",
   "name": "python3"
  },
  "language_info": {
   "codemirror_mode": {
    "name": "ipython",
    "version": 3
   },
   "file_extension": ".py",
   "mimetype": "text/x-python",
   "name": "python",
   "nbconvert_exporter": "python",
   "pygments_lexer": "ipython3",
   "version": "3.7.0"
  }
 },
 "nbformat": 4,
 "nbformat_minor": 2
}
